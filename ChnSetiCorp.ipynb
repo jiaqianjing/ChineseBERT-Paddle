{
 "cells": [
  {
   "cell_type": "code",
   "execution_count": 1,
   "id": "618c4560-2cfe-42e1-9ced-8dc5dff0421d",
   "metadata": {},
   "outputs": [],
   "source": [
    "# 导入 paddlenlp path\n",
    "PaddleNLP_PATH=\"/data1/workspace/research/ChineseBERT-Paddle/Paddle_ChineseBert/PaddleNLP\"\n",
    "import sys\n",
    "sys.path.append(PaddleNLP_PATH)"
   ]
  },
  {
   "cell_type": "code",
   "execution_count": 2,
   "id": "29bb43c9-ccbe-4bc9-9a07-d08b73b53910",
   "metadata": {},
   "outputs": [],
   "source": [
    "from paddlenlp.transformers import ChineseBertTokenizer"
   ]
  },
  {
   "cell_type": "code",
   "execution_count": 3,
   "id": "45904a9e-f4fe-4cae-919a-d3b87fca4785",
   "metadata": {},
   "outputs": [],
   "source": [
    "ct = ChineseBertTokenizer('./pretrain_models/paddle/ChineseBERT-large')"
   ]
  },
  {
   "cell_type": "code",
   "execution_count": 4,
   "id": "dc2b0d59-9327-44e7-9026-9b572b62c6db",
   "metadata": {},
   "outputs": [
    {
     "data": {
      "text/plain": [
       "23236"
      ]
     },
     "execution_count": 4,
     "metadata": {},
     "output_type": "execute_result"
    }
   ],
   "source": [
    "ct.vocab_size"
   ]
  },
  {
   "cell_type": "code",
   "execution_count": 5,
   "id": "9e2398a7-9ed8-4f56-87f2-f75f7cdda78d",
   "metadata": {},
   "outputs": [
    {
     "data": {
      "text/plain": [
       "['你', '好']"
      ]
     },
     "execution_count": 5,
     "metadata": {},
     "output_type": "execute_result"
    }
   ],
   "source": [
    "ct.tokenize('你好')"
   ]
  },
  {
   "cell_type": "code",
   "execution_count": 6,
   "id": "8c1000ca-c411-477c-bd05-592deefa27f8",
   "metadata": {},
   "outputs": [
    {
     "data": {
      "text/plain": [
       "{'input_ids': array([ 101,  872, 1962,  102]),\n",
       " 'pinyin_ids': array([ 0,  0,  0,  0,  0,  0,  0,  0, 19, 14,  3,  0,  0,  0,  0,  0, 13,\n",
       "         6, 20,  3,  0,  0,  0,  0,  0,  0,  0,  0,  0,  0,  0,  0])}"
      ]
     },
     "execution_count": 6,
     "metadata": {},
     "output_type": "execute_result"
    }
   ],
   "source": [
    "import numpy as np\n",
    "ct.tokenize_sentence('你好')"
   ]
  },
  {
   "cell_type": "code",
   "execution_count": null,
   "id": "d4493333-19a8-499c-ad52-d4f4a55965e6",
   "metadata": {},
   "outputs": [],
   "source": []
  }
 ],
 "metadata": {
  "kernelspec": {
   "display_name": "Python 3 (ipykernel)",
   "language": "python",
   "name": "python3"
  },
  "language_info": {
   "codemirror_mode": {
    "name": "ipython",
    "version": 3
   },
   "file_extension": ".py",
   "mimetype": "text/x-python",
   "name": "python",
   "nbconvert_exporter": "python",
   "pygments_lexer": "ipython3",
   "version": "3.7.11"
  }
 },
 "nbformat": 4,
 "nbformat_minor": 5
}
